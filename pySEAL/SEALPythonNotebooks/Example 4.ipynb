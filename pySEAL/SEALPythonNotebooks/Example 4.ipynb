{
 "cells": [
  {
   "cell_type": "markdown",
   "metadata": {},
   "source": [
    "# Example 4: Weighted Average\n",
    "Firstly, let's import some modules that we will depend on in the next examples."
   ]
  },
  {
   "cell_type": "code",
   "execution_count": 1,
   "metadata": {},
   "outputs": [],
   "source": [
    "import time\n",
    "import random\n",
    "import pickle\n",
    "import threading\n",
    "import seal\n",
    "from seal import ChooserEvaluator, \\\n",
    "\tCiphertext, \\\n",
    "\tDecryptor, \\\n",
    "\tEncryptor, \\\n",
    "\tEncryptionParameters, \\\n",
    "\tEvaluator, \\\n",
    "\tIntegerEncoder, \\\n",
    "\tFractionalEncoder, \\\n",
    "\tKeyGenerator, \\\n",
    "\tMemoryPoolHandle, \\\n",
    "\tPlaintext, \\\n",
    "\tSEALContext, \\\n",
    "\tEvaluationKeys, \\\n",
    "\tGaloisKeys, \\\n",
    "\tPolyCRTBuilder, \\\n",
    "\tChooserEncoder, \\\n",
    "\tChooserEvaluator, \\\n",
    "\tChooserPoly"
   ]
  },
  {
   "cell_type": "markdown",
   "metadata": {},
   "source": [
    "In this example we demonstrate the FractionalEncoder, and use it to compute\n",
    " a weighted average of 10 encrypted rational numbers. In this computation we\n",
    " perform homomorphic multiplications of ciphertexts by plaintexts, which is\n",
    " much faster than regular multiplications of ciphertexts by ciphertexts.\n",
    " Moreover, such `plain multiplications` never increase the ciphertext size,\n",
    " which is why we have no need for evaluation keys in this example.\n",
    " We start by creating encryption parameters, setting up the SEALContext, keys,\n",
    " and other relevant objects. Since our computation has multiplicative depth of\n",
    " only two, it suffices to use a small poly_modulus."
   ]
  },
  {
   "cell_type": "code",
   "execution_count": 2,
   "metadata": {},
   "outputs": [
    {
     "name": "stdout",
     "output_type": "stream",
     "text": [
      "/ Encryption parameters:\n",
      "| poly_modulus: 1x^2048 + 1\n",
      "| coeff_modulus_size: 56 bits\n",
      "| plain_modulus: 256\n",
      "| noise_standard_deviation: 3.19\n"
     ]
    }
   ],
   "source": [
    "def print_parameters(context):\n",
    "    print(\"/ Encryption parameters:\")\n",
    "    print(\"| poly_modulus: \" + context.poly_modulus().to_string())\n",
    "    print(\"| coeff_modulus_size: \" + (str)(context.total_coeff_modulus().significant_bit_count()) + \" bits\")\n",
    "    print(\"| plain_modulus: \" + (str)(context.plain_modulus().value()))\n",
    "    print(\"| noise_standard_deviation: \" + (str)(context.noise_standard_deviation()))\n",
    "\n",
    "parms = EncryptionParameters()\n",
    "parms.set_poly_modulus(\"1x^2048 + 1\")\n",
    "parms.set_coeff_modulus(seal.coeff_modulus_128(2048))\n",
    "parms.set_plain_modulus(1 << 8)\n",
    "context = SEALContext(parms)\n",
    "print_parameters(context)\n",
    "keygen = KeyGenerator(context)\n",
    "public_key = keygen.public_key()\n",
    "secret_key = keygen.secret_key()"
   ]
  },
  {
   "cell_type": "markdown",
   "metadata": {},
   "source": [
    "We also set up an Encryptor, Evaluator, and Decryptor here."
   ]
  },
  {
   "cell_type": "code",
   "execution_count": 3,
   "metadata": {},
   "outputs": [],
   "source": [
    "encryptor = Encryptor(context, public_key)\n",
    "evaluator = Evaluator(context)\n",
    "decryptor = Decryptor(context, secret_key)"
   ]
  },
  {
   "cell_type": "markdown",
   "metadata": {},
   "source": [
    "Create a vector of 10 rational numbers (as doubles)."
   ]
  },
  {
   "cell_type": "code",
   "execution_count": 4,
   "metadata": {},
   "outputs": [],
   "source": [
    "rational_numbers = [3.1, 4.159, 2.65, 3.5897, 9.3, 2.3, 8.46, 2.64, 3.383, 2.795]"
   ]
  },
  {
   "cell_type": "markdown",
   "metadata": {},
   "source": [
    "Create a vector of weights."
   ]
  },
  {
   "cell_type": "code",
   "execution_count": 5,
   "metadata": {},
   "outputs": [],
   "source": [
    "coefficients = [0.1, 0.05, 0.05, 0.2, 0.05, 0.3, 0.1, 0.025, 0.075, 0.05]"
   ]
  },
  {
   "cell_type": "markdown",
   "metadata": {},
   "source": [
    "We need a FractionalEncoder to encode the rational numbers into plaintext\n",
    "polynomials. In this case we decide to reserve 64 coefficients of the\n",
    "polynomial for the integral part (low-degree terms) and expand the fractional\n",
    "part to 32 digits of precision (in base 3) (high-degree terms). These numbers\n",
    "can be changed according to the precision that is needed; note that these\n",
    "choices leave a lot of unused space in the 2048-coefficient polynomials."
   ]
  },
  {
   "cell_type": "code",
   "execution_count": 6,
   "metadata": {},
   "outputs": [],
   "source": [
    "encoder = FractionalEncoder(context.plain_modulus(), context.poly_modulus(), 64, 32, 3)"
   ]
  },
  {
   "cell_type": "markdown",
   "metadata": {},
   "source": [
    "We create a vector of ciphertexts for encrypting the rational numbers.\n",
    "\n",
    "We create our Ciphertext objects into the vector by passing the\n",
    "encryption parameters as an argument to the constructor. This ensures\n",
    "that enough memory is allocated for a size 2 ciphertext. In this example\n",
    "our ciphertexts never grow in size (plain multiplication does not cause\n",
    "ciphertext growth), so we can expect the ciphertexts to remain in the same\n",
    "location in memory throughout the computation. In more complicated examples\n",
    "one might want to call a constructor that reserves enough memory for the\n",
    "ciphertext to grow to a specified size to avoid costly memory moves when\n",
    "multiplications and relinearizations are performed."
   ]
  },
  {
   "cell_type": "code",
   "execution_count": 7,
   "metadata": {},
   "outputs": [
    {
     "name": "stdout",
     "output_type": "stream",
     "text": [
      "Encoding and encrypting: 3.1, 4.159, 2.65, 3.5897, 9.3, 2.3, 8.46, 2.64, 3.383, 2.795\n"
     ]
    }
   ],
   "source": [
    "encrypted_rationals = []\n",
    "rational_numbers_string = \"Encoding and encrypting: \"\n",
    "for i in range(10):\n",
    "    encrypted_rationals.append(Ciphertext(parms))\n",
    "    encryptor.encrypt(encoder.encode(rational_numbers[i]), encrypted_rationals[i])\n",
    "    rational_numbers_string += (str)(rational_numbers[i])[:6]\n",
    "    if i < 9: rational_numbers_string += \", \"\n",
    "print(rational_numbers_string)"
   ]
  },
  {
   "cell_type": "markdown",
   "metadata": {},
   "source": [
    "Next we encode the coefficients. There is no reason to encrypt these since they\n",
    "are not private data."
   ]
  },
  {
   "cell_type": "code",
   "execution_count": 8,
   "metadata": {},
   "outputs": [
    {
     "name": "stdout",
     "output_type": "stream",
     "text": [
      "Encoding plaintext coefficients: 0.1, 0.05, 0.05, 0.2, 0.05, 0.3, 0.1, 0.025, 0.075, 0.05\n"
     ]
    }
   ],
   "source": [
    "encoded_coefficients = []\n",
    "encoded_coefficients_string = \"Encoding plaintext coefficients: \"\n",
    "for i in range(10):\n",
    "    encoded_coefficients.append(encoder.encode(coefficients[i]))\n",
    "    encoded_coefficients_string += (str)(coefficients[i])[:6]\n",
    "    if i < 9: encoded_coefficients_string += \", \"\n",
    "print(encoded_coefficients_string)"
   ]
  },
  {
   "cell_type": "markdown",
   "metadata": {},
   "source": [
    "We also need to encode 0.1. Multiplication by this plaintext will have the\n",
    "effect of dividing by 10. Note that in SEAL it is impossible to divide\n",
    "ciphertext by another ciphertext, but in this way division by a plaintext is\n",
    "possible."
   ]
  },
  {
   "cell_type": "code",
   "execution_count": 9,
   "metadata": {},
   "outputs": [],
   "source": [
    "div_by_ten = encoder.encode(0.1)"
   ]
  },
  {
   "cell_type": "markdown",
   "metadata": {},
   "source": [
    "Now compute each multiplication.\n",
    "\n",
    "Note how we use plain multiplication instead of usual multiplication. The\n",
    "result overwrites the first argument in the function call."
   ]
  },
  {
   "cell_type": "code",
   "execution_count": 10,
   "metadata": {},
   "outputs": [
    {
     "name": "stdout",
     "output_type": "stream",
     "text": [
      "Computing products: \n",
      "Done\n"
     ]
    }
   ],
   "source": [
    "print(\"Computing products: \")\n",
    "for i in range(10):\n",
    "    evaluator.multiply_plain(encrypted_rationals[i], encoded_coefficients[i])\n",
    "print(\"Done\")"
   ]
  },
  {
   "cell_type": "markdown",
   "metadata": {},
   "source": [
    "To obtain the linear sum we need to still compute the sum of the ciphertexts\n",
    "in encrypted_rationals. There is an easy way to add together a vector of\n",
    "Ciphertexts."
   ]
  },
  {
   "cell_type": "code",
   "execution_count": 11,
   "metadata": {},
   "outputs": [
    {
     "name": "stdout",
     "output_type": "stream",
     "text": [
      "Adding up all 10 ciphertexts: \n",
      "Done\n"
     ]
    }
   ],
   "source": [
    "encrypted_result = Ciphertext()\n",
    "print(\"Adding up all 10 ciphertexts: \")\n",
    "evaluator.add_many(encrypted_rationals, encrypted_result)\n",
    "print(\"Done\")"
   ]
  },
  {
   "cell_type": "markdown",
   "metadata": {},
   "source": [
    "Perform division by 10 by plain multiplication with div_by_ten."
   ]
  },
  {
   "cell_type": "code",
   "execution_count": 12,
   "metadata": {},
   "outputs": [
    {
     "name": "stdout",
     "output_type": "stream",
     "text": [
      "Dividing by 10: \n",
      "Done\n"
     ]
    }
   ],
   "source": [
    "print(\"Dividing by 10: \")\n",
    "evaluator.multiply_plain(encrypted_result, div_by_ten)\n",
    "print(\"Done\")"
   ]
  },
  {
   "cell_type": "markdown",
   "metadata": {},
   "source": [
    "How much noise budget do we have left?"
   ]
  },
  {
   "cell_type": "code",
   "execution_count": 13,
   "metadata": {},
   "outputs": [
    {
     "name": "stdout",
     "output_type": "stream",
     "text": [
      "Noise budget in result: 31 bits\n"
     ]
    }
   ],
   "source": [
    "print(\"Noise budget in result: \" + (str)(decryptor.invariant_noise_budget(encrypted_result)) + \" bits\")"
   ]
  },
  {
   "cell_type": "markdown",
   "metadata": {},
   "source": [
    "Decrypt, decode, and print result."
   ]
  },
  {
   "cell_type": "code",
   "execution_count": 14,
   "metadata": {},
   "outputs": [
    {
     "name": "stdout",
     "output_type": "stream",
     "text": [
      "Decrypting result: \n",
      "Done\n",
      "Weighted average: 0.382886\n"
     ]
    }
   ],
   "source": [
    "plain_result = Plaintext()\n",
    "print(\"Decrypting result: \")\n",
    "decryptor.decrypt(encrypted_result, plain_result)\n",
    "print(\"Done\")\n",
    "result = encoder.decode(plain_result)\n",
    "print(\"Weighted average: \" + (str)(result)[:8])"
   ]
  }
 ],
 "metadata": {
  "kernelspec": {
   "display_name": "Python 3",
   "language": "python",
   "name": "python3"
  },
  "language_info": {
   "codemirror_mode": {
    "name": "ipython",
    "version": 3
   },
   "file_extension": ".py",
   "mimetype": "text/x-python",
   "name": "python",
   "nbconvert_exporter": "python",
   "pygments_lexer": "ipython3",
   "version": "3.6.3"
  }
 },
 "nbformat": 4,
 "nbformat_minor": 2
}

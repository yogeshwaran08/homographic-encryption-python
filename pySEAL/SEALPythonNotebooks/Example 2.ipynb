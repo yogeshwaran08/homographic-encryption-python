{
 "cells": [
  {
   "cell_type": "markdown",
   "metadata": {},
   "source": [
    "# PySeal Example 2\n",
    "Firstly, let's import some modules that we will depend on in the next examples."
   ]
  },
  {
   "cell_type": "code",
   "execution_count": 1,
   "metadata": {},
   "outputs": [],
   "source": [
    "import seal\n",
    "from seal import EncryptionParameters, \\\n",
    "    Evaluator, \\\n",
    "    Ciphertext, \\\n",
    "    Encryptor, \\\n",
    "    Decryptor, \\\n",
    "    IntegerEncoder, \\\n",
    "    KeyGenerator, \\\n",
    "    Plaintext, \\\n",
    "    SEALContext, \\\n",
    "    EvaluationKeys"
   ]
  },
  {
   "cell_type": "markdown",
   "metadata": {},
   "source": [
    "In this example we explain what relinearization is, how to use it, and how\n",
    "it affects noise budget consumption.\n",
    "\n",
    "First we set the parameters, create a `SEALContext`, and generate the public\n",
    "and secret keys. We use slightly larger parameters than be fore to be able\n",
    "to do more homomorphic multiplications."
   ]
  },
  {
   "cell_type": "code",
   "execution_count": 2,
   "metadata": {},
   "outputs": [],
   "source": [
    "parms = EncryptionParameters()\n",
    "parms.set_poly_modulus(\"1x^8192 + 1\")"
   ]
  },
  {
   "cell_type": "markdown",
   "metadata": {},
   "source": [
    "The default coefficient modulus consists of the following primes:\n",
    "\n",
    "    0x7fffffffba0001,\n",
    "    0x7fffffffaa0001,\n",
    "    0x7fffffff7e0001,\n",
    "    0x3fffffffd60001.\n",
    "The total size is 219 bits."
   ]
  },
  {
   "cell_type": "code",
   "execution_count": 3,
   "metadata": {},
   "outputs": [
    {
     "name": "stdout",
     "output_type": "stream",
     "text": [
      "/ Encryption parameters:\n",
      "| poly_modulus: 1x^8192 + 1\n",
      "| coeff_modulus_size: 219 bits\n",
      "| plain_modulus: 1024\n",
      "| noise_standard_deviation: 3.19\n"
     ]
    }
   ],
   "source": [
    "def print_parameters(context):\n",
    "    print(\"/ Encryption parameters:\")\n",
    "    print(\"| poly_modulus: \" + context.poly_modulus().to_string())\n",
    "    \n",
    "    # Print the size of the true (product) coefficient modulus\n",
    "    print(\"| coeff_modulus_size: \" + (str)(context.total_coeff_modulus().significant_bit_count()) + \" bits\")\n",
    "\n",
    "    print(\"| plain_modulus: \" + (str)(context.plain_modulus().value()))\n",
    "    print(\"| noise_standard_deviation: \" + (str)(context.noise_standard_deviation()))\n",
    "\n",
    "parms.set_coeff_modulus(seal.coeff_modulus_128(8192))\n",
    "parms.set_plain_modulus(1 << 10)\n",
    "context = SEALContext(parms)\n",
    "print_parameters(context)\n",
    "keygen = KeyGenerator(context)\n",
    "public_key = keygen.public_key()\n",
    "secret_key = keygen.secret_key()"
   ]
  },
  {
   "cell_type": "markdown",
   "metadata": {},
   "source": [
    "We also set up an Encryptor, Evaluator, and Decryptor here. We will\n",
    "encrypt polynomials directly in this example, so there is no need for\n",
    "an encoder."
   ]
  },
  {
   "cell_type": "code",
   "execution_count": 4,
   "metadata": {},
   "outputs": [],
   "source": [
    "encryptor = Encryptor(context, public_key)\n",
    "evaluator = Evaluator(context)\n",
    "decryptor = Decryptor(context, secret_key)"
   ]
  },
  {
   "cell_type": "markdown",
   "metadata": {},
   "source": [
    "There are actually two more types of keys in SEAL: `evaluation keys` and\n",
    "`Galois keys`. Here we will discuss evaluation keys, and Galois keys will\n",
    "be discussed later in example of batching.\n",
    "In SEAL, a valid ciphertext consists of two or more polynomials with\n",
    "coefficients integers modulo the product of the primes in coeff_modulus.\n",
    "The current size of a ciphertext can be found using `Ciphertext::size()`.\n",
    "A freshly encrypted ciphertext always has size 2."
   ]
  },
  {
   "cell_type": "code",
   "execution_count": 5,
   "metadata": {},
   "outputs": [
    {
     "name": "stdout",
     "output_type": "stream",
     "text": [
      "\n",
      "Encrypting 1x^2 + 2x^1 + 3: \n",
      "Done\n",
      "Size of a fresh encryption: 2\n",
      "Noise budget in fresh encryption: 197 bits\n"
     ]
    }
   ],
   "source": [
    "plain1 = Plaintext(\"1x^2 + 2x^1 + 3\")\n",
    "encrypted = Ciphertext()\n",
    "print(\"\")\n",
    "print(\"Encrypting \" + plain1.to_string() + \": \")\n",
    "encryptor.encrypt(plain1, encrypted)\n",
    "print(\"Done\")\n",
    "print(\"Size of a fresh encryption: \" + (str)(encrypted.size()))\n",
    "print(\"Noise budget in fresh encryption: \" + (str)(decryptor.invariant_noise_budget(encrypted)) + \" bits\")"
   ]
  },
  {
   "cell_type": "markdown",
   "metadata": {},
   "source": [
    "Homomorphic multiplication results in the output ciphertext growing in size.\n",
    "More precisely, if the input ciphertexts have size M and N, then the output\n",
    "ciphertext after homomorphic multiplication will have size M+N-1. In this\n",
    "case we square encrypted twice to observe this growth (also observe noise\n",
    "budget consumption)."
   ]
  },
  {
   "cell_type": "code",
   "execution_count": 6,
   "metadata": {},
   "outputs": [
    {
     "name": "stdout",
     "output_type": "stream",
     "text": [
      "Size after squaring: 3\n",
      "Noise budget after squaring: 174 bits\n",
      "Second power: 1x^4 + 4x^3 + Ax^2 + Cx^1 + 9\n",
      "Size after squaring: 5\n",
      "Noise budget after squaring: 140 bits\n"
     ]
    }
   ],
   "source": [
    "evaluator.square(encrypted)\n",
    "print(\"Size after squaring: \" + (str)(encrypted.size()))\n",
    "print(\"Noise budget after squaring: \" + (str)(decryptor.invariant_noise_budget(encrypted)) + \" bits\")\n",
    "plain2 = Plaintext()\n",
    "decryptor.decrypt(encrypted, plain2)\n",
    "print(\"Second power: \" + plain2.to_string())\n",
    "evaluator.square(encrypted);\n",
    "print(\"Size after squaring: \" + (str)(encrypted.size()))\n",
    "print(\"Noise budget after squaring: \" + (str)(decryptor.invariant_noise_budget(encrypted)) + \" bits\")"
   ]
  },
  {
   "cell_type": "markdown",
   "metadata": {},
   "source": [
    "It does not matter that the size has grown -- decryption works as usual.\n",
    "Observe from the print-out that the coefficients in the plaintext have\n",
    "grown quite large. One more squaring would cause some of them to wrap\n",
    "around plain_modulus (0x400), and as a result we would no longer obtain\n",
    "the expected result as an integer-coefficient polynomial. We can fix this\n",
    "problem to some extent by increasing plain_modulus. This would make sense,\n",
    "since we still have plenty of noise budget left."
   ]
  },
  {
   "cell_type": "code",
   "execution_count": 7,
   "metadata": {},
   "outputs": [
    {
     "name": "stdout",
     "output_type": "stream",
     "text": [
      "Fourth power: 1x^8 + 8x^7 + 24x^6 + 68x^5 + D6x^4 + 138x^3 + 144x^2 + D8x^1 + 51\n"
     ]
    }
   ],
   "source": [
    "plain2 = Plaintext()\n",
    "decryptor.decrypt(encrypted, plain2)\n",
    "print(\"Fourth power: \" + plain2.to_string())"
   ]
  },
  {
   "cell_type": "markdown",
   "metadata": {},
   "source": [
    "The problem here is that homomorphic operations on large ciphertexts are\n",
    "computationally much more costly than on small ciphertexts. Specifically,\n",
    "homomorphic multiplication on input ciphertexts of size M and N will require\n",
    "O(M*N) polynomial multiplications to be performed, and an addition will\n",
    "require O(M+N) additions. Relinearization reduces the size of the ciphertexts\n",
    "after multiplication back to the initial size (2). Thus, relinearizing one\n",
    "or both inputs before the next multiplication, or e.g. before serializing the\n",
    "ciphertexts, can have a huge positive impact on performance.\n",
    "Another problem is that the noise budget consumption in multiplication is\n",
    "bigger when the input ciphertexts sizes are bigger. In a complicated\n",
    "computation the contribution of the sizes to the noise budget consumption\n",
    "can actually become the dominant term. We will point this out again below\n",
    "once we get to our example.\n",
    "Relinearization itself has both a computational cost and a noise budget cost.\n",
    "These both depend on a parameter called `decomposition bit count`, which can\n",
    "be any integer at least 1 `dbc_min()` and at most 60 `dbc_max()`. A large\n",
    "decomposition bit count makes relinearization fast, but consumes more noise\n",
    "budget. A small decomposition bit count can make relinearization slower, but\n",
    "might not change the noise budget by any observable amount.\n",
    "Relinearization requires a special type of key called `evaluation keys`.\n",
    "These can be created by the KeyGenerator for any decomposition bit count.\n",
    "To relinearize a ciphertext of size M >= 2 back to size 2, we actually need\n",
    "M-2 evaluation keys. Attempting to relinearize a too large ciphertext with\n",
    "too few evaluation keys will result in an exception being thrown.\n",
    "We repeat our computation, but this time relinearize after both squarings.\n",
    "Since our ciphertext never grows past size 3 (we relinearize after every\n",
    "multiplication), it suffices to generate only one evaluation key.\n",
    "First, we need to create evaluation keys. We use a decomposition bit count\n",
    "of 16 here, which can be thought of as quite small."
   ]
  },
  {
   "cell_type": "code",
   "execution_count": 8,
   "metadata": {},
   "outputs": [],
   "source": [
    "ev_keys16 = EvaluationKeys()"
   ]
  },
  {
   "cell_type": "markdown",
   "metadata": {},
   "source": [
    "This function generates one single evaluation key. Another overload takes\n",
    "the number of keys to be generated as an argument, but one is all we need\n",
    "in this example (see above)."
   ]
  },
  {
   "cell_type": "code",
   "execution_count": 9,
   "metadata": {},
   "outputs": [
    {
     "name": "stdout",
     "output_type": "stream",
     "text": [
      "\n",
      "Encrypting 1x^2 + 2x^1 + 3: \n",
      "Done\n",
      "Size of a fresh encryption: 2\n",
      "Noise budget in fresh encryption: 197 bits\n",
      "Size after squaring: 3\n",
      "Noise budget after squaring: 174 bits\n",
      "Size after relinearization: 2\n",
      "Noise budget after relinearizing (dbs = 16): 174 bits\n",
      "Size after second squaring: 3 bits\n",
      "Noise budget after second squaring: 146 bits\n",
      "Size after relinearization: 2\n",
      "Noise budget after relinearizing (dbs = 16): 146 bits\n",
      "Fourth power: 1x^8 + 8x^7 + 24x^6 + 68x^5 + D6x^4 + 138x^3 + 144x^2 + D8x^1 + 51\n"
     ]
    }
   ],
   "source": [
    "keygen.generate_evaluation_keys(16, ev_keys16)\n",
    "print(\"\")\n",
    "print(\"Encrypting \" + plain1.to_string() + \": \")\n",
    "encryptor.encrypt(plain1, encrypted)\n",
    "print(\"Done\")\n",
    "print(\"Size of a fresh encryption: \" + (str)(encrypted.size()))\n",
    "print(\"Noise budget in fresh encryption: \" + (str)(decryptor.invariant_noise_budget(encrypted)) + \" bits\")\n",
    "evaluator.square(encrypted)\n",
    "print(\"Size after squaring: \" + (str)(encrypted.size()))\n",
    "print(\"Noise budget after squaring: \" + (str)(decryptor.invariant_noise_budget(encrypted)) + \" bits\")\n",
    "evaluator.relinearize(encrypted, ev_keys16)\n",
    "print(\"Size after relinearization: \" + (str)(encrypted.size()))\n",
    "print(\"Noise budget after relinearizing (dbs = \" + (str)(ev_keys16.decomposition_bit_count()) + \"): \" +\n",
    "      (str)(decryptor.invariant_noise_budget(encrypted)) + \" bits\")\n",
    "evaluator.square(encrypted)\n",
    "print(\"Size after second squaring: \" + (str)(encrypted.size()) + \" bits\")\n",
    "print(\"Noise budget after second squaring: \" + (str)(decryptor.invariant_noise_budget(encrypted)) + \" bits\")\n",
    "evaluator.relinearize(encrypted, ev_keys16)\n",
    "print(\"Size after relinearization: \" + (str)(encrypted.size()))\n",
    "print(\"Noise budget after relinearizing (dbs = \" + (str)(ev_keys16.decomposition_bit_count()) + \"): \" +\n",
    "      (str)(decryptor.invariant_noise_budget(encrypted)) + \" bits\")\n",
    "decryptor.decrypt(encrypted, plain2)\n",
    "print(\"Fourth power: \" + plain2.to_string())"
   ]
  },
  {
   "cell_type": "markdown",
   "metadata": {},
   "source": [
    "Of course the result is still the same, but this time we actually\n",
    "used less of our noise budget. This is not surprising for two reasons:\n",
    "    - We used a very small decomposition bit count, which is why\n",
    "      relinearization itself did not consume the noise budget by any\n",
    "      observable amount;\n",
    "    - Since our ciphertext sizes remain small throughout the two\n",
    "      squarings, the noise budget consumption rate in multiplication\n",
    "      remains as small as possible. Recall from above that operations\n",
    "      on larger ciphertexts actually cause more noise growth.\n",
    "To make matters even more clear, we repeat the computation a third time,\n",
    "now using the largest possible decomposition bit count (60). We are not\n",
    "measuring the time here, but relinearization with these evaluation keys\n",
    "is significantly faster than with ev_keys16."
   ]
  },
  {
   "cell_type": "code",
   "execution_count": 10,
   "metadata": {},
   "outputs": [
    {
     "name": "stdout",
     "output_type": "stream",
     "text": [
      "\n",
      "Encrypting 1x^2 + 2x^1 + 3: \n",
      "Done\n",
      "Size of a fresh encryption: 2\n",
      "Noise budget in fresh encryption: 197 bits\n",
      "Size after squaring: 3\n",
      "Noise budget after squaring: 174 bits\n",
      "Size after relinearization: 2\n",
      "Noise budget after relinearizing (dbc = 60): 142 bits\n",
      "Size after second squaring: 3\n",
      "Noise budget after second squaring: 114 bits\n",
      "Size after relinearization: 2\n",
      "Noise budget after relinearizing (dbc = 60): 114 bits\n",
      "Fourth power: 1x^8 + 8x^7 + 24x^6 + 68x^5 + D6x^4 + 138x^3 + 144x^2 + D8x^1 + 51\n"
     ]
    }
   ],
   "source": [
    "ev_keys60 = EvaluationKeys()\n",
    "keygen.generate_evaluation_keys(seal.dbc_max(), ev_keys60)\n",
    "print(\"\")\n",
    "print(\"Encrypting \" + plain1.to_string() + \": \")\n",
    "encryptor.encrypt(plain1, encrypted)\n",
    "print(\"Done\")\n",
    "print(\"Size of a fresh encryption: \" + (str)(encrypted.size()))\n",
    "print(\"Noise budget in fresh encryption: \" + (str)(decryptor.invariant_noise_budget(encrypted)) + \" bits\")\n",
    "evaluator.square(encrypted)\n",
    "print(\"Size after squaring: \" + (str)(encrypted.size()))\n",
    "print(\"Noise budget after squaring: \" + (str)(decryptor.invariant_noise_budget(encrypted)) + \" bits\")\n",
    "evaluator.relinearize(encrypted, ev_keys60)\n",
    "print(\"Size after relinearization: \" + (str)(encrypted.size()))\n",
    "print(\"Noise budget after relinearizing (dbc = \" + (str)(ev_keys60.decomposition_bit_count()) +\n",
    "      \"): \" + (str)(decryptor.invariant_noise_budget(encrypted)) + \" bits\")\n",
    "evaluator.square(encrypted)\n",
    "print(\"Size after second squaring: \" + (str)(encrypted.size()))\n",
    "print(\"Noise budget after second squaring: \" + (str)(decryptor.invariant_noise_budget(encrypted)) + \" bits\")\n",
    "evaluator.relinearize(encrypted, ev_keys60)\n",
    "print(\"Size after relinearization: \" + (str)(encrypted.size()))\n",
    "print(\"Noise budget after relinearizing (dbc = \" + (str)(ev_keys60.decomposition_bit_count()) +\n",
    "      \"): \" + (str)(decryptor.invariant_noise_budget(encrypted)) + \" bits\")\n",
    "decryptor.decrypt(encrypted, plain2)\n",
    "print(\"Fourth power: \" + plain2.to_string())"
   ]
  },
  {
   "cell_type": "markdown",
   "metadata": {},
   "source": [
    "Observe from the print-out that we have now used significantly more of our\n",
    "noise budget than in the two previous runs. This is again not surprising,\n",
    "since the first relinearization chops off a huge part of the noise budget.\n",
    "However, note that the second relinearization does not change the noise\n",
    "budget by any observable amount. This is very important to understand when\n",
    "optimal performance is desired: relinearization always drops the noise\n",
    "budget from the maximum (freshly encrypted ciphertext) down to a fixed\n",
    "amount depending on the encryption parameters and the decomposition bit\n",
    "count. On the other hand, homomorphic multiplication always consumes the\n",
    "noise budget from its current level. This is why the second relinearization\n",
    "does not change the noise budget anymore: it is already consumed past the\n",
    "fixed amount determinted by the decomposition bit count and the encryption\n",
    "parameters.\n",
    "We now perform a third squaring and observe an even further compounded\n",
    "decrease in the noise budget. Again, relinearization does not consume the\n",
    "noise budget at this point by any observable amount, even with the largest\n",
    "possible decomposition bit count."
   ]
  },
  {
   "cell_type": "code",
   "execution_count": 11,
   "metadata": {},
   "outputs": [
    {
     "name": "stdout",
     "output_type": "stream",
     "text": [
      "Size after third squaring 3\n",
      "Noise budget after third squaring: 85 bits\n",
      "Size after relinearization: 2\n",
      "Noise budget after relinearizing (dbc = 60): 85 bits\n",
      "Eighth power: 1x^16 + 10x^15 + 88x^14 + 310x^13 + 13Cx^12 + 110x^11 + 78x^10 + 390x^9 + 1A6x^8 + 2B0x^7 + 38x^6 + B0x^5 + 3FCx^4 + 30x^3 + 348x^2 + B0x^1 + 1A1\n"
     ]
    }
   ],
   "source": [
    "evaluator.square(encrypted)\n",
    "print(\"Size after third squaring \" + (str)(encrypted.size()))\n",
    "print(\"Noise budget after third squaring: \" + (str)(decryptor.invariant_noise_budget(encrypted)) + \" bits\")\n",
    "evaluator.relinearize(encrypted, ev_keys60)\n",
    "print(\"Size after relinearization: \" + (str)(encrypted.size()))\n",
    "print(\"Noise budget after relinearizing (dbc = \" + (str)(ev_keys60.decomposition_bit_count()) +\n",
    "      \"): \" + (str)(decryptor.invariant_noise_budget(encrypted)) + \" bits\")\n",
    "decryptor.decrypt(encrypted, plain2)\n",
    "print(\"Eighth power: \" + plain2.to_string())"
   ]
  },
  {
   "cell_type": "markdown",
   "metadata": {},
   "source": [
    "Observe from the print-out that the polynomial coefficients are no longer\n",
    "correct as integers: they have been reduced modulo plain_modulus, and there\n",
    "was no warning sign about this. It might be necessary to carefully analyze\n",
    "the computation to make sure such overflow does not occur unexpectedly.\n",
    "These experiments suggest that an optimal strategy might be to relinearize\n",
    "first with evaluation keys with a small decomposition bit count, and later\n",
    "with evaluation keys with a larger decomposition bit count (for performance)\n",
    "when noise budget has already been consumed past the bound determined by the\n",
    "larger decomposition bit count. For example, above the best strategy might\n",
    "have been to use ev_keys16 in the first relinearization, and ev_keys60 in the\n",
    "next two relinearizations for optimal noise budget consumption/performance\n",
    "trade-off. Luckily, in most use-cases it is not so critical to squeeze out\n",
    "every last bit of performance, especially when slightly larger parameters\n",
    "are used."
   ]
  }
 ],
 "metadata": {
  "kernelspec": {
   "display_name": "Python 3",
   "language": "python",
   "name": "python3"
  },
  "language_info": {
   "codemirror_mode": {
    "name": "ipython",
    "version": 3
   },
   "file_extension": ".py",
   "mimetype": "text/x-python",
   "name": "python",
   "nbconvert_exporter": "python",
   "pygments_lexer": "ipython3",
   "version": "3.6.3"
  }
 },
 "nbformat": 4,
 "nbformat_minor": 2
}

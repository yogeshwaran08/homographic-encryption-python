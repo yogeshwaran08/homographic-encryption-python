{
 "cells": [
  {
   "cell_type": "markdown",
   "metadata": {},
   "source": [
    "# Example 6: Automatic Parameter Selection\n",
    "Firstly, let's import some modules that we will depend on in the next examples."
   ]
  },
  {
   "cell_type": "code",
   "execution_count": 1,
   "metadata": {},
   "outputs": [],
   "source": [
    "import time\n",
    "import random\n",
    "import pickle\n",
    "import threading\n",
    "import seal\n",
    "from seal import ChooserEvaluator, \\\n",
    "\tCiphertext, \\\n",
    "\tDecryptor, \\\n",
    "\tEncryptor, \\\n",
    "\tEncryptionParameters, \\\n",
    "\tEvaluator, \\\n",
    "\tIntegerEncoder, \\\n",
    "\tKeyGenerator, \\\n",
    "\tMemoryPoolHandle, \\\n",
    "\tPlaintext, \\\n",
    "\tSEALContext, \\\n",
    "\tEvaluationKeys, \\\n",
    "\tChooserEncoder, \\\n",
    "\tChooserEvaluator, \\\n",
    "\tChooserPoly"
   ]
  },
  {
   "cell_type": "markdown",
   "metadata": {},
   "source": [
    "SEAL contains an automatic parameter selection tool that can help the user\n",
    "select optimal parameters that support a particular computation. In this\n",
    "example we show how the tool can be used to find parameters for evaluating\n",
    "the degree 3 polynomial 42x^3-27x+1 on an encrypted input encoded with the\n",
    "IntegerEncoder. For this to be possible, we need to know an upper bound on\n",
    "the size of the input, and in this example assume that x is an integer with\n",
    "base-3 representation of length at most 10.\n",
    "\n",
    "### Finding optimized parameters for computing 42x^3-27x+1:\n",
    "\n",
    "The set of tools in the parameter selector are ChooserPoly, ChooserEvaluator,\n",
    "ChooserEncoder, ChooserEncryptor, and ChooserDecryptor. Of these the most\n",
    "important ones are ChooserPoly, which is an object representing the input\n",
    "data both in plaintext and encrypted form, and ChooserEvaluator, which\n",
    "simulates plaintext coefficient growth and noise budget consumption in the\n",
    "computations. Here we use also the ChooserEncoder to conveniently obtain\n",
    "ChooserPoly objects modeling the plaintext coefficients 42, -27, and 1.\n",
    "Note that we are using the IntegerEncoder with base 3."
   ]
  },
  {
   "cell_type": "code",
   "execution_count": 2,
   "metadata": {},
   "outputs": [],
   "source": [
    "chooser_encoder = ChooserEncoder(3)\n",
    "chooser_evaluator = ChooserEvaluator()"
   ]
  },
  {
   "cell_type": "markdown",
   "metadata": {},
   "source": [
    "First we create a ChooserPoly representing the input data. You can think of\n",
    "this modeling a freshly encrypted ciphertext of a plaintext polynomial of\n",
    "length at most 10 coefficients, where the coefficients have absolute value\n",
    "at most 1 (as is the case when using IntegerEncoder with base 3)."
   ]
  },
  {
   "cell_type": "code",
   "execution_count": 3,
   "metadata": {},
   "outputs": [],
   "source": [
    "c_input = ChooserPoly(10, 1)"
   ]
  },
  {
   "cell_type": "markdown",
   "metadata": {},
   "source": [
    "Normally Evaluator::exponentiate takes the evaluation keys as argument. Since\n",
    "no keys exist here, we simply pass the desired decomposition bit count (15)\n",
    "to the ChooserEvaluator::exponentiate function.\n",
    "Here we compute the first term."
   ]
  },
  {
   "cell_type": "code",
   "execution_count": 4,
   "metadata": {},
   "outputs": [],
   "source": [
    "c_cubed_input = chooser_evaluator.exponentiate(c_input, 3, 15)\n",
    "c_term1 = chooser_evaluator.multiply_plain(c_cubed_input, chooser_encoder.encode(42))"
   ]
  },
  {
   "cell_type": "markdown",
   "metadata": {},
   "source": [
    "Then compute the second term."
   ]
  },
  {
   "cell_type": "code",
   "execution_count": 5,
   "metadata": {},
   "outputs": [],
   "source": [
    "c_term2 = chooser_evaluator.multiply_plain(c_input, chooser_encoder.encode(27))"
   ]
  },
  {
   "cell_type": "markdown",
   "metadata": {},
   "source": [
    "Subtract the first two terms."
   ]
  },
  {
   "cell_type": "code",
   "execution_count": 6,
   "metadata": {},
   "outputs": [],
   "source": [
    "c_sum12 = chooser_evaluator.sub(c_term1, c_term2)"
   ]
  },
  {
   "cell_type": "markdown",
   "metadata": {},
   "source": [
    "Finally add a plaintext constant 1."
   ]
  },
  {
   "cell_type": "code",
   "execution_count": 7,
   "metadata": {},
   "outputs": [],
   "source": [
    "c_result = chooser_evaluator.add_plain(c_sum12, chooser_encoder.encode(1))"
   ]
  },
  {
   "cell_type": "markdown",
   "metadata": {},
   "source": [
    "The optimal parameters are now computed using the select_parameters\n",
    "function in ChooserEvaluator. It is possible to give this function the\n",
    "results of several distinct computations (as ChooserPoly objects), all\n",
    "of which are supposed to be possible to perform with the resulting set\n",
    "of parameters. However, here we have only one input ChooserPoly."
   ]
  },
  {
   "cell_type": "code",
   "execution_count": 8,
   "metadata": {},
   "outputs": [
    {
     "name": "stdout",
     "output_type": "stream",
     "text": [
      "Done\n"
     ]
    }
   ],
   "source": [
    "optimal_parms = EncryptionParameters()\n",
    "chooser_evaluator.select_parameters([c_result], 0, optimal_parms)\n",
    "print(\"Done\")"
   ]
  },
  {
   "cell_type": "markdown",
   "metadata": {},
   "source": [
    "Create an SEALContext object for the returned parameters"
   ]
  },
  {
   "cell_type": "code",
   "execution_count": 9,
   "metadata": {},
   "outputs": [
    {
     "name": "stdout",
     "output_type": "stream",
     "text": [
      "/ Encryption parameters:\n",
      "| poly_modulus: 1x^4096 + 1\n",
      "| coeff_modulus_size: 110 bits\n",
      "| plain_modulus: 512\n",
      "| noise_standard_deviation: 3.19\n"
     ]
    }
   ],
   "source": [
    "def print_parameters(context):\n",
    "    print(\"/ Encryption parameters:\")\n",
    "    print(\"| poly_modulus: \" + context.poly_modulus().to_string())\n",
    "    print(\"| coeff_modulus_size: \" + (str)(context.total_coeff_modulus().significant_bit_count()) + \" bits\")\n",
    "    print(\"| plain_modulus: \" + (str)(context.plain_modulus().value()))\n",
    "    print(\"| noise_standard_deviation: \" + (str)(context.noise_standard_deviation()))\n",
    "optimal_context = SEALContext(optimal_parms)\n",
    "print_parameters(optimal_context)"
   ]
  },
  {
   "cell_type": "markdown",
   "metadata": {},
   "source": [
    "Do the parameters actually make any sense? We can try to perform the\n",
    "homomorphic computation using the given parameters and see what happens."
   ]
  },
  {
   "cell_type": "code",
   "execution_count": 10,
   "metadata": {},
   "outputs": [],
   "source": [
    "keygen = KeyGenerator(optimal_context)\n",
    "public_key = keygen.public_key()\n",
    "secret_key = keygen.secret_key()\n",
    "ev_keys = EvaluationKeys()\n",
    "keygen.generate_evaluation_keys(15, ev_keys)\n",
    "encryptor = Encryptor(optimal_context, public_key)\n",
    "evaluator = Evaluator(optimal_context)\n",
    "decryptor = Decryptor(optimal_context, secret_key)\n",
    "encoder = IntegerEncoder(optimal_context.plain_modulus(), 3)"
   ]
  },
  {
   "cell_type": "markdown",
   "metadata": {},
   "source": [
    "Now perform the computations on some real data."
   ]
  },
  {
   "cell_type": "code",
   "execution_count": 11,
   "metadata": {},
   "outputs": [
    {
     "name": "stdout",
     "output_type": "stream",
     "text": [
      "Encoded 12345 as polynomial 1x^9 + 1FFx^8 + 1FFx^6 + 1FFx^4 + 1x^3 + 1x^2 + 1FFx^1\n",
      "Encrypting: \n",
      "Done\n",
      "Computing 42x^3-27x+1 on encrypted x=12345: \n",
      "Done\n"
     ]
    }
   ],
   "source": [
    "input_value = 12345\n",
    "plain_input = encoder.encode(input_value)\n",
    "print(\"Encoded \" + (str)(input_value) + \" as polynomial \" + plain_input.to_string())\n",
    "input_ciphertext = Ciphertext()\n",
    "print(\"Encrypting: \")\n",
    "encryptor.encrypt(plain_input, input_ciphertext)\n",
    "print(\"Done\")\n",
    "print(\"Computing 42x^3-27x+1 on encrypted x=12345: \")\n",
    "deg3_term = Ciphertext()\n",
    "evaluator.exponentiate(input_ciphertext, 3, ev_keys, deg3_term)\n",
    "evaluator.multiply_plain(deg3_term, encoder.encode(42))\n",
    "deg1_term = Ciphertext()\n",
    "evaluator.multiply_plain(input_ciphertext, encoder.encode(27), deg1_term)\n",
    "evaluator.sub(deg3_term, deg1_term)\n",
    "evaluator.add_plain(deg3_term, encoder.encode(1))\n",
    "print(\"Done\")"
   ]
  },
  {
   "cell_type": "markdown",
   "metadata": {},
   "source": [
    "Now deg3_term holds the result. We decrypt, decode, and print the result."
   ]
  },
  {
   "cell_type": "code",
   "execution_count": 12,
   "metadata": {},
   "outputs": [
    {
     "name": "stdout",
     "output_type": "stream",
     "text": [
      "Decrypting: \n",
      "Done\n",
      "Polynomial 42x^3-27x+1 evaluated at x=12345: 79017370138936\n"
     ]
    }
   ],
   "source": [
    "plain_result = Plaintext()\n",
    "print(\"Decrypting: \")\n",
    "decryptor.decrypt(deg3_term, plain_result)\n",
    "print(\"Done\")\n",
    "print(\"Polynomial 42x^3-27x+1 evaluated at x=12345: \" + (str)(encoder.decode_int64(plain_result)))"
   ]
  },
  {
   "cell_type": "markdown",
   "metadata": {},
   "source": [
    "We should have a reasonable amount of noise room left if the parameter\n",
    "selection was done properly. The user can experiment for instance by\n",
    "changing the decomposition bit count, and observing how it affects the\n",
    "result. Typically the budget should never be even close to 0. Instead,\n",
    "SEAL uses heuristic upper bound estimates on the noise budget consumption,\n",
    "which ensures that the computation will succeed with very high probability\n",
    "with the selected parameters."
   ]
  },
  {
   "cell_type": "code",
   "execution_count": 13,
   "metadata": {},
   "outputs": [
    {
     "name": "stdout",
     "output_type": "stream",
     "text": [
      "Noise budget in result: 46 bits\n"
     ]
    }
   ],
   "source": [
    "print(\"Noise budget in result: \" + (str)(decryptor.invariant_noise_budget(deg3_term)) + \" bits\")"
   ]
  }
 ],
 "metadata": {
  "kernelspec": {
   "display_name": "Python 3",
   "language": "python",
   "name": "python3"
  },
  "language_info": {
   "codemirror_mode": {
    "name": "ipython",
    "version": 3
   },
   "file_extension": ".py",
   "mimetype": "text/x-python",
   "name": "python",
   "nbconvert_exporter": "python",
   "pygments_lexer": "ipython3",
   "version": "3.6.3"
  }
 },
 "nbformat": 4,
 "nbformat_minor": 2
}

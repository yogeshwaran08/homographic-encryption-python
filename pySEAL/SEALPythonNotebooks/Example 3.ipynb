{
 "cells": [
  {
   "cell_type": "markdown",
   "metadata": {},
   "source": [
    "# Example 3: Ability to Pickle SEAL Ciphertexts\n",
    "Firstly, let's import some modules that we will depend on in the next examples."
   ]
  },
  {
   "cell_type": "code",
   "execution_count": 1,
   "metadata": {},
   "outputs": [],
   "source": [
    "import pickle\n",
    "import seal\n",
    "from seal import Ciphertext, \\\n",
    "\tDecryptor, \\\n",
    "\tEncryptor, \\\n",
    "\tEncryptionParameters, \\\n",
    "\tEvaluator, \\\n",
    "\tIntegerEncoder, \\\n",
    "\tKeyGenerator, \\\n",
    "\tPlaintext, \\\n",
    "\tSEALContext"
   ]
  },
  {
   "cell_type": "markdown",
   "metadata": {},
   "source": [
    "In this example we demonstrate how to serialize SEAL Ciphertexts to files using Pickle."
   ]
  },
  {
   "cell_type": "code",
   "execution_count": 2,
   "metadata": {},
   "outputs": [],
   "source": [
    "parms = EncryptionParameters()\n",
    "parms.set_poly_modulus(\"1x^2048 + 1\")\n",
    "parms.set_coeff_modulus(seal.coeff_modulus_128(2048))\n",
    "parms.set_plain_modulus(1 << 8)\n",
    "\n",
    "context = SEALContext(parms)\n",
    "keygen = KeyGenerator(context)\n",
    "public_key = keygen.public_key()\n",
    "secret_key = keygen.secret_key()\n",
    "\n",
    "encryptor = Encryptor(context, public_key)\n",
    "decryptor = Decryptor(context, secret_key)"
   ]
  },
  {
   "cell_type": "markdown",
   "metadata": {},
   "source": [
    "Create and encrypt a plaintext"
   ]
  },
  {
   "cell_type": "code",
   "execution_count": 3,
   "metadata": {},
   "outputs": [
    {
     "name": "stdout",
     "output_type": "stream",
     "text": [
      "\n",
      "Encrypting plaintext '1x^2 + 2x^1 + 3'\n"
     ]
    }
   ],
   "source": [
    "plain1 = Plaintext(\"1x^2 + 2x^1 + 3\")\n",
    "\n",
    "print(\"\")\n",
    "print(\"Encrypting plaintext '{}'\".format(plain1.to_string()))\n",
    "encrypted1 = Ciphertext()\n",
    "encryptor.encrypt(plain1, encrypted1)"
   ]
  },
  {
   "cell_type": "markdown",
   "metadata": {},
   "source": [
    "Serialize it using Pickle"
   ]
  },
  {
   "cell_type": "code",
   "execution_count": 4,
   "metadata": {},
   "outputs": [
    {
     "name": "stdout",
     "output_type": "stream",
     "text": [
      "Dumping plaintext '1x^2 + 2x^1 + 3' to file 'encrypted1.txt'\n"
     ]
    }
   ],
   "source": [
    "filename1 = \"encrypted1.txt\"\n",
    "print(\"Dumping plaintext '{}' to file '{}'\".format(plain1.to_string(), filename1))\n",
    "pickle.dump(encrypted1, open(filename1, \"wb\"))"
   ]
  },
  {
   "cell_type": "markdown",
   "metadata": {},
   "source": [
    "Read serialized ciphertext back in"
   ]
  },
  {
   "cell_type": "code",
   "execution_count": 5,
   "metadata": {},
   "outputs": [
    {
     "name": "stdout",
     "output_type": "stream",
     "text": [
      "Read serialized ciphertext back in and decrypt to: '1x^2 + 2x^1 + 3'\n"
     ]
    }
   ],
   "source": [
    "pickle_encrypted = pickle.load(open(filename1, \"rb\"))\n",
    "\n",
    "decrypted = Plaintext()\n",
    "decryptor.decrypt(pickle_encrypted, decrypted)\n",
    "print(\"Read serialized ciphertext back in and decrypt to: '{}'\".format(decrypted.to_string()))"
   ]
  }
 ],
 "metadata": {
  "kernelspec": {
   "display_name": "Python 3",
   "language": "python",
   "name": "python3"
  },
  "language_info": {
   "codemirror_mode": {
    "name": "ipython",
    "version": 3
   },
   "file_extension": ".py",
   "mimetype": "text/x-python",
   "name": "python",
   "nbconvert_exporter": "python",
   "pygments_lexer": "ipython3",
   "version": "3.6.3"
  }
 },
 "nbformat": 4,
 "nbformat_minor": 2
}

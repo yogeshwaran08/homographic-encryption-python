{
 "cells": [
  {
   "cell_type": "markdown",
   "metadata": {},
   "source": [
    "# Example 5: Batching with PolyCRTBuilder\n",
    "Firstly, let's import some modules that we will depend on in the next examples."
   ]
  },
  {
   "cell_type": "code",
   "execution_count": 1,
   "metadata": {},
   "outputs": [],
   "source": [
    "import time\n",
    "import random\n",
    "import pickle\n",
    "import threading\n",
    "import seal\n",
    "from seal import ChooserEvaluator, \\\n",
    "    Ciphertext, \\\n",
    "    Decryptor, \\\n",
    "    Encryptor, \\\n",
    "    EncryptionParameters, \\\n",
    "    Evaluator, \\\n",
    "    IntegerEncoder, \\\n",
    "    FractionalEncoder, \\\n",
    "    KeyGenerator, \\\n",
    "    MemoryPoolHandle, \\\n",
    "    Plaintext, \\\n",
    "    SEALContext, \\\n",
    "    EvaluationKeys, \\\n",
    "    GaloisKeys, \\\n",
    "    PolyCRTBuilder, \\\n",
    "    ChooserEncoder, \\\n",
    "    ChooserEvaluator, \\\n",
    "    ChooserPoly"
   ]
  },
  {
   "cell_type": "markdown",
   "metadata": {},
   "source": [
    "In this fundamental example we discuss and demonstrate a powerful technique\n",
    "called `batching`. If N denotes the degree of the polynomial modulus, and T\n",
    "the plaintext modulus, then batching is automatically enabled in SEAL if\n",
    "T is a prime and congruent to 1 modulo 2*N. In batching the plaintexts are\n",
    "viewed as matrices of size 2-by-(N/2) with each element an integer modulo T.\n",
    "Homomorphic operations act element-wise between encrypted matrices, allowing\n",
    "the user to obtain speeds-ups of several orders of magnitude in naively\n",
    "vectorizable computations. We demonstrate two more homomorphic operations\n",
    "which act on encrypted matrices by rotating the rows cyclically, or rotate\n",
    "the columns (i.e. swap the rows). These operations require the construction\n",
    "of so-called `Galois keys`, which are very similar to evaluation keys."
   ]
  },
  {
   "cell_type": "code",
   "execution_count": 2,
   "metadata": {},
   "outputs": [
    {
     "name": "stdout",
     "output_type": "stream",
     "text": [
      "/ Encryption parameters:\n",
      "| poly_modulus: 1x^4096 + 1\n",
      "| coeff_modulus_size: 110 bits\n",
      "| plain_modulus: 40961\n",
      "| noise_standard_deviation: 3.19\n"
     ]
    }
   ],
   "source": [
    "def print_parameters(context):\n",
    "    print(\"/ Encryption parameters:\")\n",
    "    print(\"| poly_modulus: \" + context.poly_modulus().to_string())\n",
    "    print(\"| coeff_modulus_size: \" + (str)(context.total_coeff_modulus().significant_bit_count()) + \" bits\")\n",
    "    print(\"| plain_modulus: \" + (str)(context.plain_modulus().value()))\n",
    "    print(\"| noise_standard_deviation: \" + (str)(context.noise_standard_deviation()))\n",
    "\n",
    "parms = EncryptionParameters()\n",
    "parms.set_poly_modulus(\"1x^4096 + 1\")\n",
    "parms.set_coeff_modulus(seal.coeff_modulus_128(4096)) \n",
    "parms.set_plain_modulus(40961) # Note that 40961 is a prime number and 2*4096 divides 40960.\n",
    "context = SEALContext(parms)\n",
    "print_parameters(context)"
   ]
  },
  {
   "cell_type": "markdown",
   "metadata": {},
   "source": [
    "We can see that batching is indeed enabled by looking at the encryption\n",
    "parameter qualifiers created by SEALContext."
   ]
  },
  {
   "cell_type": "code",
   "execution_count": 3,
   "metadata": {},
   "outputs": [],
   "source": [
    "qualifiers = context.qualifiers()\n",
    "keygen = KeyGenerator(context)\n",
    "public_key = keygen.public_key()\n",
    "secret_key = keygen.secret_key()"
   ]
  },
  {
   "cell_type": "markdown",
   "metadata": {},
   "source": [
    "We need to create Galois keys for performing matrix row and column rotations.\n",
    "Like evaluation keys, the behavior of Galois keys depends on a decomposition\n",
    "bit count. The noise budget consumption behavior of matrix row and column\n",
    "rotations is exactly like that of relinearization. Thus, we refer the reader\n",
    "to Example 2 for more details.\n",
    "\n",
    "Here we use a moderate size decomposition bit count."
   ]
  },
  {
   "cell_type": "code",
   "execution_count": 4,
   "metadata": {},
   "outputs": [],
   "source": [
    "gal_keys = GaloisKeys()\n",
    "keygen.generate_galois_keys(30, gal_keys)"
   ]
  },
  {
   "cell_type": "markdown",
   "metadata": {},
   "source": [
    "Since we are going to do some multiplications we will also relinearize."
   ]
  },
  {
   "cell_type": "code",
   "execution_count": 5,
   "metadata": {},
   "outputs": [],
   "source": [
    "ev_keys = EvaluationKeys()\n",
    "keygen.generate_evaluation_keys(30, ev_keys)"
   ]
  },
  {
   "cell_type": "markdown",
   "metadata": {},
   "source": [
    "We also set up an Encryptor, Evaluator, and Decryptor here."
   ]
  },
  {
   "cell_type": "code",
   "execution_count": 6,
   "metadata": {},
   "outputs": [],
   "source": [
    "encryptor = Encryptor(context, public_key)\n",
    "evaluator = Evaluator(context)\n",
    "decryptor = Decryptor(context, secret_key)"
   ]
  },
  {
   "cell_type": "markdown",
   "metadata": {},
   "source": [
    "Batching is done through an instance of the PolyCRTBuilder class so need\n",
    "to start by constructing one."
   ]
  },
  {
   "cell_type": "code",
   "execution_count": 7,
   "metadata": {},
   "outputs": [],
   "source": [
    "crtbuilder = PolyCRTBuilder(context)"
   ]
  },
  {
   "cell_type": "markdown",
   "metadata": {},
   "source": [
    "The total number of batching `slots' is degree(poly_modulus). The matrices\n",
    "we encrypt are of size 2-by-(slot_count / 2)."
   ]
  },
  {
   "cell_type": "code",
   "execution_count": 8,
   "metadata": {},
   "outputs": [
    {
     "name": "stdout",
     "output_type": "stream",
     "text": [
      "Plaintext matrix row size: 2048\n"
     ]
    }
   ],
   "source": [
    "slot_count = (int)(crtbuilder.slot_count())\n",
    "row_size = (int)(slot_count / 2)\n",
    "print(\"Plaintext matrix row size: \" + (str)(row_size))"
   ]
  },
  {
   "cell_type": "markdown",
   "metadata": {},
   "source": [
    "Printing the matrix is a bit of a pain.\n",
    "\n",
    "We're not going to print every column of the matrix (there are 2048). Instead\n",
    "print this many slots from beginning and end of the matrix."
   ]
  },
  {
   "cell_type": "code",
   "execution_count": 9,
   "metadata": {},
   "outputs": [],
   "source": [
    "def print_matrix(matrix):\n",
    "    print(\"\")\n",
    "    print_size = 5\n",
    "    current_line = \"    [\"\n",
    "    for i in range(print_size):\n",
    "        current_line += ((str)(matrix[i]) + \", \")\n",
    "    current_line += (\"..., \")\n",
    "    for i in range(row_size - print_size, row_size):\n",
    "        current_line += ((str)(matrix[i]))\n",
    "        if i != row_size-1: current_line += \", \"\n",
    "        else: current_line += \"]\"\n",
    "    print(current_line)\n",
    "    current_line = \"    [\"\n",
    "    for i in range(row_size, row_size + print_size):\n",
    "        current_line += ((str)(matrix[i]) + \", \")\n",
    "    current_line += (\"..., \")\n",
    "    for i in range(2*row_size - print_size, 2*row_size):\n",
    "        current_line += ((str)(matrix[i]))\n",
    "        if i != 2*row_size-1: current_line += \", \"\n",
    "        else: current_line += \"]\"\n",
    "    print(current_line)\n",
    "    print(\"\")"
   ]
  },
  {
   "cell_type": "markdown",
   "metadata": {},
   "source": [
    "The matrix plaintext is simply given to PolyCRTBuilder as a flattened vector\n",
    "of numbers of size slot_count. The first row_size numbers form the first row,\n",
    "and the rest form the second row. Here we create the following matrix:\n",
    "    [ 0,  1,  2,  3,  0,  0, ...,  0 ]\n",
    "    [ 4,  5,  6,  7,  0,  0, ...,  0 ]"
   ]
  },
  {
   "cell_type": "code",
   "execution_count": 10,
   "metadata": {},
   "outputs": [
    {
     "name": "stdout",
     "output_type": "stream",
     "text": [
      "Input plaintext matrix:\n",
      "\n",
      "    [0, 1, 2, 3, 0, ..., 0, 0, 0, 0, 0]\n",
      "    [4, 5, 6, 7, 0, ..., 0, 0, 0, 0, 0]\n",
      "\n"
     ]
    }
   ],
   "source": [
    "pod_matrix = [0]*slot_count\n",
    "pod_matrix[0] = 0\n",
    "pod_matrix[1] = 1\n",
    "pod_matrix[2] = 2\n",
    "pod_matrix[3] = 3\n",
    "pod_matrix[row_size] = 4\n",
    "pod_matrix[row_size + 1] = 5\n",
    "pod_matrix[row_size + 2] = 6\n",
    "pod_matrix[row_size + 3] = 7\n",
    "print(\"Input plaintext matrix:\")\n",
    "print_matrix(pod_matrix)"
   ]
  },
  {
   "cell_type": "markdown",
   "metadata": {},
   "source": [
    "First we use PolyCRTBuilder to compose the matrix into a plaintext."
   ]
  },
  {
   "cell_type": "code",
   "execution_count": 11,
   "metadata": {},
   "outputs": [],
   "source": [
    "plain_matrix = Plaintext()\n",
    "crtbuilder.compose(pod_matrix, plain_matrix)"
   ]
  },
  {
   "cell_type": "markdown",
   "metadata": {},
   "source": [
    "Next we encrypt the plaintext as usual."
   ]
  },
  {
   "cell_type": "code",
   "execution_count": 12,
   "metadata": {},
   "outputs": [
    {
     "name": "stdout",
     "output_type": "stream",
     "text": [
      "Encrypting: \n",
      "Done\n",
      "Noise budget in fresh encryption: 80 bits\n"
     ]
    }
   ],
   "source": [
    "encrypted_matrix = Ciphertext()\n",
    "print(\"Encrypting: \")\n",
    "encryptor.encrypt(plain_matrix, encrypted_matrix)\n",
    "print(\"Done\")\n",
    "print(\"Noise budget in fresh encryption: \" +\n",
    "      (str)(decryptor.invariant_noise_budget(encrypted_matrix)) + \" bits\")"
   ]
  },
  {
   "cell_type": "markdown",
   "metadata": {},
   "source": [
    "Operating on the ciphertext results in homomorphic operations being performed\n",
    "simultaneously in all 4096 slots (matrix elements). To illustrate this, we\n",
    "form another plaintext matrix\n",
    "    [ 1,  2,  1,  2,  1,  2, ..., 2 ]\n",
    "    [ 1,  2,  1,  2,  1,  2, ..., 2 ]\n",
    "and compose it into a plaintext."
   ]
  },
  {
   "cell_type": "code",
   "execution_count": 13,
   "metadata": {},
   "outputs": [
    {
     "name": "stdout",
     "output_type": "stream",
     "text": [
      "Second input plaintext matrix:\n",
      "\n",
      "    [1, 2, 1, 2, 1, ..., 2, 1, 2, 1, 2]\n",
      "    [1, 2, 1, 2, 1, ..., 2, 1, 2, 1, 2]\n",
      "\n"
     ]
    }
   ],
   "source": [
    "pod_matrix2 = []\n",
    "for i in range(slot_count): pod_matrix2.append((i % 2) + 1)\n",
    "plain_matrix2 = Plaintext()\n",
    "crtbuilder.compose(pod_matrix2, plain_matrix2)\n",
    "print(\"Second input plaintext matrix:\")\n",
    "print_matrix(pod_matrix2)"
   ]
  },
  {
   "cell_type": "markdown",
   "metadata": {},
   "source": [
    "We now add the second (plaintext) matrix to the encrypted one using another\n",
    "new operation -- plain addition -- and square the sum."
   ]
  },
  {
   "cell_type": "code",
   "execution_count": 14,
   "metadata": {},
   "outputs": [
    {
     "name": "stdout",
     "output_type": "stream",
     "text": [
      "Adding and squaring: \n",
      "Done\n"
     ]
    }
   ],
   "source": [
    "print(\"Adding and squaring: \")\n",
    "evaluator.add_plain(encrypted_matrix, plain_matrix2)\n",
    "evaluator.square(encrypted_matrix)\n",
    "evaluator.relinearize(encrypted_matrix, ev_keys)\n",
    "print(\"Done\")"
   ]
  },
  {
   "cell_type": "markdown",
   "metadata": {},
   "source": [
    "How much noise budget do we have left?"
   ]
  },
  {
   "cell_type": "code",
   "execution_count": 15,
   "metadata": {},
   "outputs": [
    {
     "name": "stdout",
     "output_type": "stream",
     "text": [
      "Noise budget in result: 53 bits\n"
     ]
    }
   ],
   "source": [
    "print(\"Noise budget in result: \" + (str)(decryptor.invariant_noise_budget(encrypted_matrix)) + \" bits\")"
   ]
  },
  {
   "cell_type": "markdown",
   "metadata": {},
   "source": [
    "We decrypt and decompose the plaintext to recover the result as a matrix."
   ]
  },
  {
   "cell_type": "code",
   "execution_count": 16,
   "metadata": {},
   "outputs": [
    {
     "name": "stdout",
     "output_type": "stream",
     "text": [
      "Decrypting result: \n",
      "Done\n",
      "Result plaintext matrix:\n",
      "\n",
      "    [1, 9, 9, 25, 1, ..., 4, 1, 4, 1, 4]\n",
      "    [25, 49, 49, 81, 1, ..., 4, 1, 4, 1, 4]\n",
      "\n"
     ]
    }
   ],
   "source": [
    "plain_result = Plaintext()\n",
    "print(\"Decrypting result: \")\n",
    "decryptor.decrypt(encrypted_matrix, plain_result)\n",
    "print(\"Done\")\n",
    "crtbuilder.decompose(plain_result)\n",
    "pod_result = [plain_result.coeff_at(i) for i in range(plain_result.coeff_count())]\n",
    "print(\"Result plaintext matrix:\")\n",
    "print_matrix(pod_result)"
   ]
  },
  {
   "cell_type": "markdown",
   "metadata": {},
   "source": [
    "Note how the operation was performed in one go for each of the elements of the\n",
    "matrix. It is possible to achieve incredible performance improvements by using\n",
    "this method when the computation is easily vectorizable.\n",
    "\n",
    "All of our discussion so far could have applied just as well for a simple vector\n",
    "data type (not matrix). Now we show how the matrix view of the plaintext can be\n",
    "used for more functionality. Namely, it is possible to rotate the matrix rows\n",
    "cyclically, and same for the columns (i.e. swap the two rows). For this we need\n",
    "the Galois keys that we generated earlier.\n",
    "\n",
    "We return to the original matrix that we started with."
   ]
  },
  {
   "cell_type": "code",
   "execution_count": 17,
   "metadata": {},
   "outputs": [
    {
     "name": "stdout",
     "output_type": "stream",
     "text": [
      "Unrotated matrix: \n",
      "\n",
      "    [0, 1, 2, 3, 0, ..., 0, 0, 0, 0, 0]\n",
      "    [4, 5, 6, 7, 0, ..., 0, 0, 0, 0, 0]\n",
      "\n",
      "Noise budget in fresh encryption: 80 bits\n"
     ]
    }
   ],
   "source": [
    "encryptor.encrypt(plain_matrix, encrypted_matrix)\n",
    "print(\"Unrotated matrix: \")\n",
    "print_matrix(pod_matrix)\n",
    "print(\"Noise budget in fresh encryption: \" +\n",
    "      (str)(decryptor.invariant_noise_budget(encrypted_matrix)) + \" bits\")"
   ]
  },
  {
   "cell_type": "markdown",
   "metadata": {},
   "source": [
    "Now rotate the rows to the left 3 steps, decrypt, decompose, and print."
   ]
  },
  {
   "cell_type": "code",
   "execution_count": 18,
   "metadata": {},
   "outputs": [
    {
     "name": "stdout",
     "output_type": "stream",
     "text": [
      "Rotated rows 3 steps left: \n",
      "\n",
      "    [3, 0, 0, 0, 0, ..., 0, 0, 0, 1, 2]\n",
      "    [7, 0, 0, 0, 0, ..., 0, 0, 4, 5, 6]\n",
      "\n",
      "Noise budget after rotation53 bits\n"
     ]
    }
   ],
   "source": [
    "evaluator.rotate_rows(encrypted_matrix, 3, gal_keys)\n",
    "print(\"Rotated rows 3 steps left: \")\n",
    "decryptor.decrypt(encrypted_matrix, plain_result)\n",
    "crtbuilder.decompose(plain_result)\n",
    "pod_result = [plain_result.coeff_at(i) for i in range(plain_result.coeff_count())]\n",
    "print_matrix(pod_result)\n",
    "print(\"Noise budget after rotation\" +\n",
    "      (str)(decryptor.invariant_noise_budget(encrypted_matrix)) + \" bits\")"
   ]
  },
  {
   "cell_type": "markdown",
   "metadata": {},
   "source": [
    "Rotate columns (swap rows), decrypt, decompose, and print."
   ]
  },
  {
   "cell_type": "code",
   "execution_count": 19,
   "metadata": {},
   "outputs": [
    {
     "name": "stdout",
     "output_type": "stream",
     "text": [
      "Rotated columns: \n",
      "\n",
      "    [7, 0, 0, 0, 0, ..., 0, 0, 4, 5, 6]\n",
      "    [3, 0, 0, 0, 0, ..., 0, 0, 0, 1, 2]\n",
      "\n",
      "Noise budget after rotation: 54 bits\n"
     ]
    }
   ],
   "source": [
    "evaluator.rotate_columns(encrypted_matrix, gal_keys)\n",
    "print(\"Rotated columns: \")\n",
    "decryptor.decrypt(encrypted_matrix, plain_result)\n",
    "crtbuilder.decompose(plain_result)\n",
    "pod_result = [plain_result.coeff_at(i) for i in range(plain_result.coeff_count())]\n",
    "print_matrix(pod_result)\n",
    "print(\"Noise budget after rotation: \" +\n",
    "      (str)(decryptor.invariant_noise_budget(encrypted_matrix)) + \" bits\")"
   ]
  },
  {
   "cell_type": "markdown",
   "metadata": {},
   "source": [
    "Rotate rows to the right 4 steps, decrypt, decompose, and print."
   ]
  },
  {
   "cell_type": "code",
   "execution_count": 20,
   "metadata": {},
   "outputs": [
    {
     "name": "stdout",
     "output_type": "stream",
     "text": [
      "Rotated rows 4 steps right: \n",
      "\n",
      "    [0, 4, 5, 6, 7, ..., 0, 0, 0, 0, 0]\n",
      "    [0, 0, 1, 2, 3, ..., 0, 0, 0, 0, 0]\n",
      "\n",
      "Noise budget after rotation: 53 bits\n"
     ]
    }
   ],
   "source": [
    "evaluator.rotate_rows(encrypted_matrix, -4, gal_keys)\n",
    "print(\"Rotated rows 4 steps right: \")\n",
    "decryptor.decrypt(encrypted_matrix, plain_result)\n",
    "crtbuilder.decompose(plain_result)\n",
    "pod_result = [plain_result.coeff_at(i) for i in range(plain_result.coeff_count())]\n",
    "print_matrix(pod_result)\n",
    "print(\"Noise budget after rotation: \" +\n",
    "      (str)(decryptor.invariant_noise_budget(encrypted_matrix)) + \" bits\")"
   ]
  },
  {
   "cell_type": "markdown",
   "metadata": {},
   "source": [
    "The output is as expected. Note how the noise budget gets a big hit in the\n",
    "first rotation, but remains almost unchanged in the next rotations. This is\n",
    "again the same phenomenon that occurs with relinearization, where the noise\n",
    "budget is consumed down to some bound determined by the decomposition bit count\n",
    "and the encryption parameters. For example, after some multiplications have\n",
    "been performed, rotations might practically for free (noise budget-wise), but\n",
    "might be relatively expensive when the noise budget is nearly full, unless\n",
    "a small decomposition bit count is used, which again is computationally costly."
   ]
  }
 ],
 "metadata": {
  "kernelspec": {
   "display_name": "Python 3",
   "language": "python",
   "name": "python3"
  },
  "language_info": {
   "codemirror_mode": {
    "name": "ipython",
    "version": 3
   },
   "file_extension": ".py",
   "mimetype": "text/x-python",
   "name": "python",
   "nbconvert_exporter": "python",
   "pygments_lexer": "ipython3",
   "version": "3.6.3"
  }
 },
 "nbformat": 4,
 "nbformat_minor": 2
}
